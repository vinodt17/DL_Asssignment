{
 "cells": [
  {
   "cell_type": "markdown",
   "metadata": {},
   "source": [
    "# Assignment 4 Questions"
   ]
  },
  {
   "cell_type": "markdown",
   "metadata": {},
   "source": [
    "## Problem Statement"
   ]
  },
  {
   "cell_type": "markdown",
   "metadata": {},
   "source": [
    "Q.1 Given a sequence of n values x1, x2, ..., xn and a window size k>0, the k-th moving average of\n",
    "the given sequence is defined as follows:\n",
    "\n",
    "The moving average sequence has n-k+1 elements as shown below.\n",
    "The moving averages with k=4 of a ten-value sequence (n=10) is shown below\n",
    "\n",
    "    i 1 2 3 4 5 6 7 8 9 10\n",
    "    ===== == == == == == == == == == ==\n",
    "    Input 10 20 30 40 50 60 70 80 90 100\n",
    "    y1 25 = (10+20+30+40)/4\n",
    "    y2 35 = (20+30+40+50)/4\n",
    "    y3 45 = (30+40+50+60)/4\n",
    "    y4 55 = (40+50+60+70)/4\n",
    "    y5 65 = (50+60+70+80)/4\n",
    "    y6 75 = (60+70+80+90)/4\n",
    "    y7 85 = (70+80+90+100)/4\n",
    "\n",
    "Thus, the moving average sequence has n-k+1=10-4+1=7 values.\n",
    "\n",
    "Write a function to find moving average in an array over a window:\n",
    "\n",
    "Test it over [3, 5, 7, 2, 8, 10, 11, 65, 72, 81, 99, 100, 150] and window of 3."
   ]
  },
  {
   "cell_type": "code",
   "execution_count": 1,
   "metadata": {},
   "outputs": [
    {
     "data": {
      "text/plain": [
       "array([  5.        ,   4.66666667,   5.66666667,   6.66666667,\n",
       "         9.66666667,  28.66666667,  49.33333333,  72.66666667,\n",
       "        84.        ,  93.33333333, 116.33333333])"
      ]
     },
     "execution_count": 1,
     "metadata": {},
     "output_type": "execute_result"
    }
   ],
   "source": [
    "import numpy as np\n",
    "\n",
    "def moving_average(a, n=3):\n",
    "    asum = np.cumsum(a, dtype=float)\n",
    "    asum[n:] = asum[n:] - asum[:-n] \n",
    "    return asum[n - 1:] / n\n",
    "\n",
    "a=[3, 5, 7, 2, 8, 10, 11, 65, 72, 81, 99, 100, 150] \n",
    "a1=np.array(a)\n",
    "\n",
    "np.array(moving_average(a1,n=3)) "
   ]
  },
  {
   "cell_type": "markdown",
   "metadata": {},
   "source": [
    "Q.2 How-to-count-distance-to-the-previous-zero\n",
    "For each value, count the difference back to the previous zero (or the start of the Series,\n",
    "whichever is closer)\n",
    "create a new column 'Y'\n",
    "Consider a DataFrame df where there is an integer column 'X'\n",
    "    \n",
    "    import pandas as pd\n",
    "    df = pd.DataFrame({'X': [7, 2, 0, 3, 4, 2, 5, 0, 3, 4]})"
   ]
  },
  {
   "cell_type": "code",
   "execution_count": 6,
   "metadata": {},
   "outputs": [
    {
     "data": {
      "text/plain": [
       "[1, 2, 0, 1, 2, 3, 4, 0, 1, 2]"
      ]
     },
     "execution_count": 6,
     "metadata": {},
     "output_type": "execute_result"
    }
   ],
   "source": [
    "import pandas as pd\n",
    "import numpy as np\n",
    "s=pd.Series([7,2,0,3,4,2,5,0,3,4])\n",
    "(s.groupby(s.eq(0).cumsum().mask(s.eq(0))).cumcount() + 1).mask(s.eq(0), 0).tolist()"
   ]
  },
  {
   "cell_type": "markdown",
   "metadata": {},
   "source": [
    "Q.3 Create a DatetimeIndex that contains each business day of 2015 and use it to index a Series of\n",
    "random numbers."
   ]
  },
  {
   "cell_type": "code",
   "execution_count": 11,
   "metadata": {},
   "outputs": [
    {
     "name": "stdout",
     "output_type": "stream",
     "text": [
      "                   0\n",
      "2015-01-01 -2.057513\n",
      "2015-01-02  0.698519\n",
      "2015-01-05 -0.006851\n",
      "2015-01-06  0.662802\n",
      "2015-01-07 -0.389842\n",
      "2015-01-08  1.828638\n",
      "2015-01-09  0.182099\n",
      "2015-01-12  1.379424\n",
      "2015-01-13 -0.998004\n",
      "2015-01-14 -0.459530\n",
      "2015-01-15  0.179666\n",
      "2015-01-16  0.201552\n",
      "2015-01-19 -1.242235\n",
      "2015-01-20  0.009944\n",
      "2015-01-21 -0.045310\n",
      "2015-01-22 -0.324690\n",
      "2015-01-23 -1.475044\n",
      "2015-01-26 -0.205988\n",
      "2015-01-27  1.060305\n",
      "2015-01-28 -0.191459\n",
      "2015-01-29 -0.586680\n",
      "2015-01-30  1.369600\n",
      "2015-02-02  0.322030\n",
      "2015-02-03 -0.088330\n",
      "2015-02-04  0.835154\n",
      "2015-02-05  0.222153\n",
      "2015-02-06 -0.863389\n",
      "2015-02-09 -0.037011\n",
      "2015-02-10 -0.445899\n",
      "2015-02-11 -0.917691\n",
      "...              ...\n",
      "2015-11-20 -0.956710\n",
      "2015-11-23 -1.344120\n",
      "2015-11-24 -0.317416\n",
      "2015-11-25 -0.290614\n",
      "2015-11-26  0.214050\n",
      "2015-11-27 -0.781844\n",
      "2015-11-30  1.408737\n",
      "2015-12-01 -1.942852\n",
      "2015-12-02  1.263007\n",
      "2015-12-03  1.711871\n",
      "2015-12-04  0.398005\n",
      "2015-12-07 -1.011878\n",
      "2015-12-08 -0.936361\n",
      "2015-12-09  1.339345\n",
      "2015-12-10  0.709432\n",
      "2015-12-11  0.053763\n",
      "2015-12-14 -1.242134\n",
      "2015-12-15  0.715031\n",
      "2015-12-16  0.495838\n",
      "2015-12-17 -0.721471\n",
      "2015-12-18 -1.084685\n",
      "2015-12-21 -0.012980\n",
      "2015-12-22 -0.797295\n",
      "2015-12-23  1.538241\n",
      "2015-12-24 -0.696488\n",
      "2015-12-25  0.762704\n",
      "2015-12-28 -0.010637\n",
      "2015-12-29  0.320564\n",
      "2015-12-30  0.474794\n",
      "2015-12-31  0.215427\n",
      "\n",
      "[261 rows x 1 columns]\n"
     ]
    }
   ],
   "source": [
    "import pandas as pd\n",
    "import numpy as np\n",
    "dates=pd.date_range(\"1/1/2015\",periods=261,freq='B')\n",
    "df=pd.DataFrame(np.random.randn(261,1),index=dates)\n",
    "print(df)"
   ]
  },
  {
   "cell_type": "markdown",
   "metadata": {},
   "source": [
    "Q.4 "
   ]
  }
 ],
 "metadata": {
  "kernelspec": {
   "display_name": "Python 3",
   "language": "python",
   "name": "python3"
  },
  "language_info": {
   "codemirror_mode": {
    "name": "ipython",
    "version": 3
   },
   "file_extension": ".py",
   "mimetype": "text/x-python",
   "name": "python",
   "nbconvert_exporter": "python",
   "pygments_lexer": "ipython3",
   "version": "3.7.3"
  }
 },
 "nbformat": 4,
 "nbformat_minor": 2
}

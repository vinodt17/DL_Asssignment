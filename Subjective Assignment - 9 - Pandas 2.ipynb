{
 "cells": [
  {
   "cell_type": "markdown",
   "metadata": {},
   "source": [
    "# Assignment"
   ]
  },
  {
   "cell_type": "markdown",
   "metadata": {},
   "source": [
    "Link for Datasets\n",
    "(https://drive.google.com/drive/folders/105ftuIwN9kqyPNEEm3E6IM7LqywjyvJa?usp=sharing)"
   ]
  },
  {
   "cell_type": "markdown",
   "metadata": {},
   "source": [
    "Q21. Write a pandas program to import three datasheets from a given\n",
    "excel data (coalpublic2013.xlsx ) in to a single dataframe.\n",
    " \n",
    "Note: Structure of three datasheets are same."
   ]
  },
  {
   "cell_type": "code",
   "execution_count": 2,
   "metadata": {},
   "outputs": [
    {
     "data": {
      "text/html": [
       "<div>\n",
       "<style scoped>\n",
       "    .dataframe tbody tr th:only-of-type {\n",
       "        vertical-align: middle;\n",
       "    }\n",
       "\n",
       "    .dataframe tbody tr th {\n",
       "        vertical-align: top;\n",
       "    }\n",
       "\n",
       "    .dataframe thead th {\n",
       "        text-align: right;\n",
       "    }\n",
       "</style>\n",
       "<table border=\"1\" class=\"dataframe\">\n",
       "  <thead>\n",
       "    <tr style=\"text-align: right;\">\n",
       "      <th></th>\n",
       "      <th>emp_id</th>\n",
       "      <th>first_name</th>\n",
       "      <th>last_name</th>\n",
       "      <th>hire_date</th>\n",
       "    </tr>\n",
       "  </thead>\n",
       "  <tbody>\n",
       "    <tr>\n",
       "      <th>0</th>\n",
       "      <td>100</td>\n",
       "      <td>Steven</td>\n",
       "      <td>King</td>\n",
       "      <td>2003-06-17</td>\n",
       "    </tr>\n",
       "    <tr>\n",
       "      <th>1</th>\n",
       "      <td>101</td>\n",
       "      <td>Neena</td>\n",
       "      <td>Kochhar</td>\n",
       "      <td>2005-09-21</td>\n",
       "    </tr>\n",
       "    <tr>\n",
       "      <th>2</th>\n",
       "      <td>102</td>\n",
       "      <td>Lex</td>\n",
       "      <td>De Haan</td>\n",
       "      <td>2001-01-13</td>\n",
       "    </tr>\n",
       "    <tr>\n",
       "      <th>3</th>\n",
       "      <td>103</td>\n",
       "      <td>Alexander</td>\n",
       "      <td>Hunold</td>\n",
       "      <td>2006-01-03</td>\n",
       "    </tr>\n",
       "    <tr>\n",
       "      <th>4</th>\n",
       "      <td>104</td>\n",
       "      <td>Bruce</td>\n",
       "      <td>Ernst</td>\n",
       "      <td>2007-05-21</td>\n",
       "    </tr>\n",
       "    <tr>\n",
       "      <th>5</th>\n",
       "      <td>105</td>\n",
       "      <td>David</td>\n",
       "      <td>Austin</td>\n",
       "      <td>2005-06-25</td>\n",
       "    </tr>\n",
       "    <tr>\n",
       "      <th>6</th>\n",
       "      <td>106</td>\n",
       "      <td>Valli</td>\n",
       "      <td>Pataballa</td>\n",
       "      <td>2006-02-05</td>\n",
       "    </tr>\n",
       "    <tr>\n",
       "      <th>7</th>\n",
       "      <td>107</td>\n",
       "      <td>Diana</td>\n",
       "      <td>Lorentz</td>\n",
       "      <td>2007-02-07</td>\n",
       "    </tr>\n",
       "    <tr>\n",
       "      <th>8</th>\n",
       "      <td>108</td>\n",
       "      <td>Nancy</td>\n",
       "      <td>Greenberg</td>\n",
       "      <td>2002-08-17</td>\n",
       "    </tr>\n",
       "    <tr>\n",
       "      <th>9</th>\n",
       "      <td>109</td>\n",
       "      <td>Daniel</td>\n",
       "      <td>Faviet</td>\n",
       "      <td>2002-08-16</td>\n",
       "    </tr>\n",
       "  </tbody>\n",
       "</table>\n",
       "</div>"
      ],
      "text/plain": [
       "   emp_id first_name  last_name  hire_date\n",
       "0     100     Steven       King 2003-06-17\n",
       "1     101      Neena    Kochhar 2005-09-21\n",
       "2     102        Lex    De Haan 2001-01-13\n",
       "3     103  Alexander     Hunold 2006-01-03\n",
       "4     104      Bruce      Ernst 2007-05-21\n",
       "5     105      David     Austin 2005-06-25\n",
       "6     106      Valli  Pataballa 2006-02-05\n",
       "7     107      Diana    Lorentz 2007-02-07\n",
       "8     108      Nancy  Greenberg 2002-08-17\n",
       "9     109     Daniel     Faviet 2002-08-16"
      ]
     },
     "execution_count": 2,
     "metadata": {},
     "output_type": "execute_result"
    }
   ],
   "source": [
    "import numpy as np\n",
    "import pandas as pd\n",
    "df1=pd.read_excel(r\"C:\\Users\\Admin\\Desktop\\Nishitha\\employee.xlsx\",sheet_name=0)\n",
    "df2=pd.read_excel(r\"C:\\Users\\Admin\\Desktop\\Nishitha\\employee.xlsx\",sheet_name=0)\n",
    "df3=pd.read_excel(r\"C:\\Users\\Admin\\Desktop\\Nishitha\\employee.xlsx\",sheet_name=0)\n",
    "df=pd.concat([df1,df2,df3])\n",
    "df.head(10)"
   ]
  },
  {
   "cell_type": "markdown",
   "metadata": {},
   "source": [
    "Q 22. Write a pandas program to import three datasheets from a given\n",
    "excel data (employee.xlsx ) into a single data frame and export the\n",
    "result into new Excel file.\n",
    " \n",
    "Note: Structure of three datasheets are same."
   ]
  },
  {
   "cell_type": "code",
   "execution_count": 3,
   "metadata": {},
   "outputs": [],
   "source": [
    "import numpy as np\n",
    "import pandas as pd\n",
    "df1=pd.read_excel(r\"C:\\Users\\Admin\\Desktop\\Nishitha\\employee.xlsx\",sheet_name=0)\n",
    "df2=pd.read_excel(r\"C:\\Users\\Admin\\Desktop\\Nishitha\\employee.xlsx\",sheet_name=0)\n",
    "df3=pd.read_excel(r\"C:\\Users\\Admin\\Desktop\\Nishitha\\employee.xlsx\",sheet_name=0)\n",
    "df=pd.concat([df1,df2,df3])\n",
    "df.to_excel(r\"C:\\Users\\Admin\\Desktop\\Nishitha\\employee_export.xlsx\",index=False)"
   ]
  },
  {
   "cell_type": "markdown",
   "metadata": {},
   "source": [
    "Q23. Write a pandas program to create the Pivot table with multiple\n",
    "indexes from the data set of the titanic.csv."
   ]
  },
  {
   "cell_type": "code",
   "execution_count": 4,
   "metadata": {},
   "outputs": [
    {
     "name": "stdout",
     "output_type": "stream",
     "text": [
      "              Unnamed: 15  adult_male  alone      fare  parch  pclass  sibsp  \\\n",
      "sex    age                                                                     \n",
      "female 0.75           0.0         0.0    0.0   38.5166      2       6      4   \n",
      "       1.00           0.0         0.0    0.0   26.8750      3       6      1   \n",
      "       2.00           0.0         0.0    0.0  259.4750      9      15      9   \n",
      "       3.00           0.0         0.0    0.0   62.6542      3       5      4   \n",
      "       4.00           0.0         0.0    0.0  114.1417      6      13      4   \n",
      "       5.00           0.0         0.0    1.0   90.8708      5      11      7   \n",
      "       6.00           0.0         0.0    0.0   64.2750      3       5      4   \n",
      "       7.00           0.0         0.0    0.0   26.2500      2       2      0   \n",
      "       8.00           0.0         0.0    0.0   47.3250      3       5      3   \n",
      "       9.00           0.0         0.0    0.0  108.7958      7      12     10   \n",
      "       10.00          0.0         0.0    0.0   24.1500      2       3      0   \n",
      "       11.00          0.0         0.0    0.0   31.2750      2       3      4   \n",
      "       13.00          0.0         0.0    1.0   26.7292      1       5      0   \n",
      "       14.00          0.0         0.0    1.0  169.1667      2       9      3   \n",
      "       14.50          0.0         0.0    0.0   14.4542      0       3      1   \n",
      "       15.00          0.0         0.0    2.0  241.0459      1      10      1   \n",
      "       16.00          0.0         0.0    3.0  246.2625      4      12      5   \n",
      "       17.00          0.0         0.0    3.0  210.7833      2      12      6   \n",
      "       18.00          0.0         0.0    4.0  697.0167      9      31      6   \n",
      "       19.00          0.0         0.0    3.0  215.0959      2      13      3   \n",
      "       20.00          0.0         0.0    1.0   18.4875      0       6      1   \n",
      "       21.00          0.0         0.0    4.0  410.4333      4      16      5   \n",
      "       22.00          0.0         0.0    7.0  444.1084      6      26      3   \n",
      "       23.00          0.0         0.0    3.0  405.5417      2      10      4   \n",
      "       24.00          0.0         0.0    7.0  772.1708     15      31     10   \n",
      "       25.00          0.0         0.0    1.0  223.2500      4      11      3   \n",
      "       26.00          0.0         0.0    3.0  136.7292      1      12      2   \n",
      "       27.00          0.0         0.0    2.0   76.8916      3      15      2   \n",
      "       28.00          0.0         0.0    4.0  110.9458      1      16      3   \n",
      "       29.00          0.0         0.0    2.0  320.6208      7      16      3   \n",
      "...                   ...         ...    ...       ...    ...     ...    ...   \n",
      "male   42.00          0.0        10.0    6.0  216.1084      1      21      3   \n",
      "       43.00          0.0         3.0    2.0   40.7500      1       8      1   \n",
      "       44.00          0.0         6.0    3.0  156.1250      1      15      3   \n",
      "       45.00          0.0         6.0    5.0  187.1000      0      10      1   \n",
      "       45.50          0.0         2.0    2.0   35.7250      0       4      0   \n",
      "       46.00          0.0         3.0    2.0  166.3750      0       4      1   \n",
      "       47.00          0.0         7.0    7.0  181.3583      0      12      0   \n",
      "       48.00          0.0         5.0    3.0  176.1334      0       8      2   \n",
      "       49.00          0.0         4.0    1.0  256.9167      1       6      3   \n",
      "       50.00          0.0         5.0    2.0  317.0250      0       8      4   \n",
      "       51.00          0.0         6.0    5.0  123.3084      1      13      0   \n",
      "       52.00          0.0         4.0    3.0  136.6500      1       6      1   \n",
      "       54.00          0.0         5.0    3.0  195.1500      1       8      1   \n",
      "       55.00          0.0         1.0    1.0   30.5000      0       1      0   \n",
      "       55.50          0.0         1.0    1.0    8.0500      0       3      0   \n",
      "       56.00          0.0         3.0    3.0   92.7458      0       3      0   \n",
      "       57.00          0.0         1.0    1.0   12.3500      0       2      0   \n",
      "       58.00          0.0         2.0    1.0  142.9750      2       2      0   \n",
      "       59.00          0.0         2.0    2.0   20.7500      0       5      0   \n",
      "       60.00          0.0         3.0    1.0  144.7500      2       4      2   \n",
      "       61.00          0.0         3.0    3.0   72.0583      0       5      0   \n",
      "       62.00          0.0         3.0    3.0   63.6000      0       4      0   \n",
      "       64.00          0.0         2.0    1.0  289.0000      4       2      1   \n",
      "       65.00          0.0         3.0    2.0   96.2792      1       5      0   \n",
      "       66.00          0.0         1.0    1.0   10.5000      0       2      0   \n",
      "       70.00          0.0         2.0    1.0   81.5000      1       3      1   \n",
      "       70.50          0.0         1.0    1.0    7.7500      0       3      0   \n",
      "       71.00          0.0         2.0    2.0   84.1584      0       2      0   \n",
      "       74.00          0.0         1.0    1.0    7.7750      0       3      0   \n",
      "       80.00          0.0         1.0    1.0   30.0000      0       1      0   \n",
      "\n",
      "              survived  \n",
      "sex    age              \n",
      "female 0.75          2  \n",
      "       1.00          2  \n",
      "       2.00          2  \n",
      "       3.00          1  \n",
      "       4.00          5  \n",
      "       5.00          4  \n",
      "       6.00          1  \n",
      "       7.00          1  \n",
      "       8.00          1  \n",
      "       9.00          0  \n",
      "       10.00         0  \n",
      "       11.00         0  \n",
      "       13.00         2  \n",
      "       14.00         3  \n",
      "       14.50         0  \n",
      "       15.00         4  \n",
      "       16.00         5  \n",
      "       17.00         5  \n",
      "       18.00         8  \n",
      "       19.00         7  \n",
      "       20.00         0  \n",
      "       21.00         4  \n",
      "       22.00        10  \n",
      "       23.00         4  \n",
      "       24.00        14  \n",
      "       25.00         2  \n",
      "       26.00         3  \n",
      "       27.00         5  \n",
      "       28.00         5  \n",
      "       29.00         5  \n",
      "...                ...  \n",
      "male   42.00         3  \n",
      "       43.00         0  \n",
      "       44.00         1  \n",
      "       45.00         2  \n",
      "       45.50         0  \n",
      "       46.00         0  \n",
      "       47.00         0  \n",
      "       48.00         3  \n",
      "       49.00         2  \n",
      "       50.00         1  \n",
      "       51.00         1  \n",
      "       52.00         1  \n",
      "       54.00         0  \n",
      "       55.00         0  \n",
      "       55.50         0  \n",
      "       56.00         1  \n",
      "       57.00         0  \n",
      "       58.00         0  \n",
      "       59.00         0  \n",
      "       60.00         1  \n",
      "       61.00         0  \n",
      "       62.00         1  \n",
      "       64.00         0  \n",
      "       65.00         0  \n",
      "       66.00         0  \n",
      "       70.00         0  \n",
      "       70.50         0  \n",
      "       71.00         0  \n",
      "       74.00         0  \n",
      "       80.00         1  \n",
      "\n",
      "[145 rows x 8 columns]\n"
     ]
    }
   ],
   "source": [
    "import numpy as np\n",
    "import pandas as pd\n",
    "df=pd.read_csv(r\"C:\\Users\\Admin\\Desktop\\Nishitha\\titanic.csv\")\n",
    "df.head(10)\n",
    "result=pd.pivot_table(df,index=[\"sex\",\"age\"],aggfunc=np.sum)\n",
    "print(result)"
   ]
  },
  {
   "cell_type": "markdown",
   "metadata": {},
   "source": [
    "Q24. Write a Pandas program to create the Pivot table and find survival\n",
    "rate by gender?"
   ]
  },
  {
   "cell_type": "code",
   "execution_count": 7,
   "metadata": {},
   "outputs": [
    {
     "name": "stdout",
     "output_type": "stream",
     "text": [
      "        survived\n",
      "sex             \n",
      "female       233\n",
      "male         109\n"
     ]
    }
   ],
   "source": [
    "import numpy as np\n",
    "import pandas as pd\n",
    "df=pd.read_csv(r\"C:\\Users\\Admin\\Desktop\\Nishitha\\titanic.csv\")\n",
    "result=df.pivot_table('survived',index=['sex'],aggfunc=np.sum)\n",
    "print(result)"
   ]
  },
  {
   "cell_type": "markdown",
   "metadata": {},
   "source": [
    "Q25. Write a pandas program to make partition each of the passengers\n",
    "into 4 categories based on their age.\n",
    " \n",
    "Note: Age categories- (0, 10), (10, 30), (30, 60), (60, 80)"
   ]
  },
  {
   "cell_type": "code",
   "execution_count": 8,
   "metadata": {},
   "outputs": [
    {
     "name": "stdout",
     "output_type": "stream",
     "text": [
      "0      (10.0, 30.0]\n",
      "1      (30.0, 60.0]\n",
      "2      (10.0, 30.0]\n",
      "3      (30.0, 60.0]\n",
      "4      (30.0, 60.0]\n",
      "5               NaN\n",
      "6      (30.0, 60.0]\n",
      "7       (0.0, 10.0]\n",
      "8      (10.0, 30.0]\n",
      "9      (10.0, 30.0]\n",
      "10      (0.0, 10.0]\n",
      "11     (30.0, 60.0]\n",
      "12     (10.0, 30.0]\n",
      "13     (30.0, 60.0]\n",
      "14     (10.0, 30.0]\n",
      "15     (30.0, 60.0]\n",
      "16      (0.0, 10.0]\n",
      "17              NaN\n",
      "18     (30.0, 60.0]\n",
      "19              NaN\n",
      "20     (30.0, 60.0]\n",
      "21     (30.0, 60.0]\n",
      "22     (10.0, 30.0]\n",
      "23     (10.0, 30.0]\n",
      "24      (0.0, 10.0]\n",
      "25     (30.0, 60.0]\n",
      "26              NaN\n",
      "27     (10.0, 30.0]\n",
      "28              NaN\n",
      "29              NaN\n",
      "           ...     \n",
      "861    (10.0, 30.0]\n",
      "862    (30.0, 60.0]\n",
      "863             NaN\n",
      "864    (10.0, 30.0]\n",
      "865    (30.0, 60.0]\n",
      "866    (10.0, 30.0]\n",
      "867    (30.0, 60.0]\n",
      "868             NaN\n",
      "869     (0.0, 10.0]\n",
      "870    (10.0, 30.0]\n",
      "871    (30.0, 60.0]\n",
      "872    (30.0, 60.0]\n",
      "873    (30.0, 60.0]\n",
      "874    (10.0, 30.0]\n",
      "875    (10.0, 30.0]\n",
      "876    (10.0, 30.0]\n",
      "877    (10.0, 30.0]\n",
      "878             NaN\n",
      "879    (30.0, 60.0]\n",
      "880    (10.0, 30.0]\n",
      "881    (30.0, 60.0]\n",
      "882    (10.0, 30.0]\n",
      "883    (10.0, 30.0]\n",
      "884    (10.0, 30.0]\n",
      "885    (30.0, 60.0]\n",
      "886    (10.0, 30.0]\n",
      "887    (10.0, 30.0]\n",
      "888             NaN\n",
      "889    (10.0, 30.0]\n",
      "890    (30.0, 60.0]\n",
      "Name: age, Length: 891, dtype: category\n",
      "Categories (4, interval[int64]): [(0, 10] < (10, 30] < (30, 60] < (60, 80]]\n"
     ]
    }
   ],
   "source": [
    "import numpy as np\n",
    "import pandas as pd\n",
    "df=pd.read_csv(r\"C:\\Users\\Admin\\Desktop\\Nishitha\\titanic.csv\")\n",
    "result=pd.cut(df['age'],[0,10,30,60,80])\n",
    "print(result)"
   ]
  },
  {
   "cell_type": "markdown",
   "metadata": {},
   "source": [
    "Q26. Write a pandas program to create the Pivot table and find survival\n",
    "rate by the gender, age of the different categories of various\n",
    "classes."
   ]
  },
  {
   "cell_type": "code",
   "execution_count": 11,
   "metadata": {},
   "outputs": [
    {
     "name": "stdout",
     "output_type": "stream",
     "text": [
      "class               First    Second     Third\n",
      "sex    age                                   \n",
      "female (0, 25]   0.928571  0.965517  0.507692\n",
      "       (25, 55]  0.980000  0.909091  0.361111\n",
      "male   (0, 25]   0.500000  0.277778  0.155039\n",
      "       (25, 55]  0.441176  0.070175  0.152542\n"
     ]
    }
   ],
   "source": [
    "import numpy as np\n",
    "import pandas as pd\n",
    "df=pd.read_csv(r\"C:\\Users\\Admin\\Desktop\\Nishitha\\titanic.csv\")\n",
    "age=pd.cut(df['age'],[0,25,55])\n",
    "result=df.pivot_table('survived',index=['sex',age],columns='class')\n",
    "print(result)"
   ]
  },
  {
   "cell_type": "markdown",
   "metadata": {},
   "source": [
    "Q27. Write a pandas program to create the Pivot table and calculate\n",
    "number of women and men were in a particular cabin class.\n"
   ]
  },
  {
   "cell_type": "code",
   "execution_count": 12,
   "metadata": {},
   "outputs": [
    {
     "name": "stdout",
     "output_type": "stream",
     "text": [
      "       Unnamed: 15       adult_male            age          alive  ... parch  \\\n",
      "pclass           1  2  3          1    2    3    1   2    3     1  ...     3   \n",
      "sex                                                                ...         \n",
      "female           0  0  0         94   76  144   85  74  102    94  ...   144   \n",
      "male             0  0  0        122  108  347  101  99  253   122  ...   347   \n",
      "\n",
      "       sibsp           survived            who            \n",
      "pclass     1    2    3        1    2    3    1    2    3  \n",
      "sex                                                       \n",
      "female    94   76  144       94   76  144   94   76  144  \n",
      "male     122  108  347      122  108  347  122  108  347  \n",
      "\n",
      "[2 rows x 42 columns]\n"
     ]
    }
   ],
   "source": [
    "import numpy as np\n",
    "import pandas as pd\n",
    "df=pd.read_csv(r\"C:\\Users\\Admin\\Desktop\\Nishitha\\titanic.csv\")\n",
    "result=df.pivot_table(index=['sex'],columns=['pclass'],aggfunc='count')\n",
    "print(result)"
   ]
  },
  {
   "cell_type": "markdown",
   "metadata": {},
   "source": [
    "Q28. Write a pandas program to create the Pivot table and separate\n",
    "the gender according to whether they travelled alone or not to get\n",
    "the probability of survival\n"
   ]
  },
  {
   "cell_type": "code",
   "execution_count": 13,
   "metadata": {},
   "outputs": [
    {
     "name": "stdout",
     "output_type": "stream",
     "text": [
      "class            First    Second     Third\n",
      "sex    alone                              \n",
      "female False  0.966667  0.931818  0.416667\n",
      "       True   0.970588  0.906250  0.616667\n",
      "male   False  0.425532  0.277778  0.180723\n",
      "       True   0.333333  0.097222  0.121212\n"
     ]
    }
   ],
   "source": [
    "import numpy as np\n",
    "import pandas as pd\n",
    "df=pd.read_csv(r\"C:\\Users\\Admin\\Desktop\\Nishitha\\titanic.csv\")\n",
    "result=df.pivot_table('survived',['sex','alone'],'class')\n",
    "print(result)"
   ]
  },
  {
   "cell_type": "markdown",
   "metadata": {},
   "source": [
    "Q29. Write a pandas program to create the Pivot table and find the\n",
    "probability of survival by class, gender, solo boarding, and the port\n",
    "of embarkation."
   ]
  },
  {
   "cell_type": "code",
   "execution_count": 15,
   "metadata": {},
   "outputs": [
    {
     "name": "stdout",
     "output_type": "stream",
     "text": [
      "embarked             C                         Q                          S  \\\n",
      "class            First    Second     Third First Second     Third     First   \n",
      "sex    alone                                                                  \n",
      "female False  1.000000  1.000000  0.611111   1.0    NaN  0.625000  0.941176   \n",
      "       True   0.944444  1.000000  0.800000   NaN    1.0  0.760000  1.000000   \n",
      "male   False  0.473684  0.166667  0.500000   0.0    NaN  0.100000  0.407407   \n",
      "       True   0.347826  0.250000  0.151515   NaN    0.0  0.068966  0.326923   \n",
      "\n",
      "embarked                          \n",
      "class           Second     Third  \n",
      "sex    alone                      \n",
      "female False  0.923077  0.327586  \n",
      "       True   0.892857  0.466667  \n",
      "male   False  0.300000  0.142857  \n",
      "       True   0.089552  0.123762  \n"
     ]
    }
   ],
   "source": [
    "import numpy as np\n",
    "import pandas as pd\n",
    "df=pd.read_csv(r\"C:\\Users\\Admin\\Desktop\\Nishitha\\titanic.csv\")\n",
    "result=df.pivot_table('survived',['sex','alone'],['embarked','class'])\n",
    "print(result)"
   ]
  },
  {
   "cell_type": "markdown",
   "metadata": {},
   "source": [
    "Q30. Write a pandas program to get current date, oldest date and\n",
    "number of days between Current date and the oldest date of Ufo\n",
    "dataset."
   ]
  },
  {
   "cell_type": "code",
   "execution_count": 16,
   "metadata": {},
   "outputs": [
    {
     "name": "stdout",
     "output_type": "stream",
     "text": [
      "Origional DataFrame\n",
      "            Date_time Country        City State    Shape  \\\n",
      "0 2016-12-21 19:15:00     USA  Waynesboro    VA   Sphere   \n",
      "1 2016-12-21 00:00:00     USA  Louisville    KY  Unknown   \n",
      "2 2016-12-20 22:30:00     USA  Santa Rosa    CA   Sphere   \n",
      "3 2016-12-20 19:00:00     USA      Fresno    CA   Circle   \n",
      "4 2016-12-19 21:53:00     USA     Reymert    AZ   Circle   \n",
      "\n",
      "                                             Summary        lat         lng  \n",
      "0               Bright round object hovering in sky.  38.065229  -78.905888  \n",
      "1  Multiple craft ascending from north of Shelbyv...  38.254238  -85.759407  \n",
      "2  Bright orange planet-like object sighted near ...  38.440467 -122.714431  \n",
      "3      Twelve orange globes in formation over Fresno  36.729529 -119.708861  \n",
      "4  While camping in the Cottonwood canyon Rd., al...  33.229779 -111.209290  \n",
      "Current date of ufo dataset\n",
      "Oldest date of ufo dataset\n",
      "2016-01-01 00:00:00\n",
      "Number of days between current date and oldest date of ufo dataset\n",
      "355\n"
     ]
    }
   ],
   "source": [
    "import pandas as pd\n",
    "import numpy as np\n",
    "df=pd.read_excel(r\"C:\\Users\\Admin\\Desktop\\Nishitha\\UFOs_coord.xlsx\")\n",
    "df['Date_time']=df['Date_time'].astype('datetime64[ns]')\n",
    "print(\"Origional DataFrame\")\n",
    "print(df.head())\n",
    "print(\"Current date of ufo dataset\")\n",
    "print(\"Oldest date of ufo dataset\")\n",
    "print(df.Date_time.min())\n",
    "print(\"Number of days between current date and oldest date of ufo dataset\")\n",
    "print((df.Date_time.max()-df.Date_time.min()).days)"
   ]
  },
  {
   "cell_type": "markdown",
   "metadata": {},
   "source": [
    "Q31. Write a pandas program to get all sighting days of the\n",
    "unidentified flying object (ufo) between 1950-10-10 and 1960-10-\n",
    "10."
   ]
  },
  {
   "cell_type": "code",
   "execution_count": 17,
   "metadata": {},
   "outputs": [
    {
     "name": "stdout",
     "output_type": "stream",
     "text": [
      "Origional Dateframe\n",
      "            Date_time Country        City State    Shape  \\\n",
      "0 2016-12-21 19:15:00     USA  Waynesboro    VA   Sphere   \n",
      "1 2016-12-21 00:00:00     USA  Louisville    KY  Unknown   \n",
      "2 2016-12-20 22:30:00     USA  Santa Rosa    CA   Sphere   \n",
      "3 2016-12-20 19:00:00     USA      Fresno    CA   Circle   \n",
      "4 2016-12-19 21:53:00     USA     Reymert    AZ   Circle   \n",
      "\n",
      "                                             Summary        lat         lng  \n",
      "0               Bright round object hovering in sky.  38.065229  -78.905888  \n",
      "1  Multiple craft ascending from north of Shelbyv...  38.254238  -85.759407  \n",
      "2  Bright orange planet-like object sighted near ...  38.440467 -122.714431  \n",
      "3      Twelve orange globes in formation over Fresno  36.729529 -119.708861  \n",
      "4  While camping in the Cottonwood canyon Rd., al...  33.229779 -111.209290  \n",
      "Sighting days of the unidentified flying object (ufo) between 1950-10-10 and 1960-10-10\n",
      "Empty DataFrame\n",
      "Columns: [Date_time, Country, City, State, Shape, Summary, lat, lng]\n",
      "Index: []\n"
     ]
    }
   ],
   "source": [
    "import pandas as pd\n",
    "import numpy as np\n",
    "df=pd.read_excel(r\"C:\\Users\\Admin\\Desktop\\Nishitha\\UFOs_coord.xlsx\")\n",
    "df['Date_time']=df['Date_time'].astype('datetime64[ns]')\n",
    "print(\"Origional Dateframe\")\n",
    "print(df.head())\n",
    "print(\"Sighting days of the unidentified flying object (ufo) between 1950-10-10 and 1960-10-10\")\n",
    "selected_period=df[(df['Date_time']>='1950-01-01 00:00:00') & (df['Date_time']<='1960-12-31 23:59:59')]\n",
    "print(selected_period)"
   ]
  },
  {
   "cell_type": "markdown",
   "metadata": {},
   "source": [
    "Q32. Write a Pandas program to extract the year, month, day, hour,\n",
    "minute, second, and weekday from unidentified flying object (UFO)\n",
    "reporting date."
   ]
  },
  {
   "cell_type": "code",
   "execution_count": 18,
   "metadata": {},
   "outputs": [
    {
     "name": "stdout",
     "output_type": "stream",
     "text": [
      "Original Dataframe:\n",
      "            Date_time Country        City State    Shape  \\\n",
      "0 2016-12-21 19:15:00     USA  Waynesboro    VA   Sphere   \n",
      "1 2016-12-21 00:00:00     USA  Louisville    KY  Unknown   \n",
      "2 2016-12-20 22:30:00     USA  Santa Rosa    CA   Sphere   \n",
      "3 2016-12-20 19:00:00     USA      Fresno    CA   Circle   \n",
      "4 2016-12-19 21:53:00     USA     Reymert    AZ   Circle   \n",
      "\n",
      "                                             Summary        lat         lng  \n",
      "0               Bright round object hovering in sky.  38.065229  -78.905888  \n",
      "1  Multiple craft ascending from north of Shelbyv...  38.254238  -85.759407  \n",
      "2  Bright orange planet-like object sighted near ...  38.440467 -122.714431  \n",
      "3      Twelve orange globes in formation over Fresno  36.729529 -119.708861  \n",
      "4  While camping in the Cottonwood canyon Rd., al...  33.229779 -111.209290  \n",
      "\n",
      "Year:\n",
      "0    2016\n",
      "1    2016\n",
      "2    2016\n",
      "3    2016\n",
      "4    2016\n",
      "Name: Date_time, dtype: int64\n",
      "\n",
      "Month:\n",
      "0    12\n",
      "1    12\n",
      "2    12\n",
      "3    12\n",
      "4    12\n",
      "Name: Date_time, dtype: int64\n",
      "\n",
      "Day:\n",
      "0    21\n",
      "1    21\n",
      "2    20\n",
      "3    20\n",
      "4    19\n",
      "Name: Date_time, dtype: int64\n",
      "\n",
      "Hour:\n",
      "0    19\n",
      "1     0\n",
      "2    22\n",
      "3    19\n",
      "4    21\n",
      "Name: Date_time, dtype: int64\n",
      "\n",
      "Minute:\n",
      "0    15\n",
      "1     0\n",
      "2    30\n",
      "3     0\n",
      "4    53\n",
      "Name: Date_time, dtype: int64\n",
      "\n",
      "Second:\n",
      "0    0\n",
      "1    0\n",
      "2    0\n",
      "3    0\n",
      "4    0\n",
      "Name: Date_time, dtype: int64\n",
      "\n",
      "Weekday:\n",
      "0    Wednesday\n",
      "1    Wednesday\n",
      "2      Tuesday\n",
      "3      Tuesday\n",
      "4       Monday\n",
      "Name: Date_time, dtype: object\n"
     ]
    }
   ],
   "source": [
    "import pandas as pd\n",
    "import numpy as np\n",
    "df=pd.read_excel(r\"C:\\Users\\Admin\\Desktop\\Nishitha\\UFOs_coord.xlsx\")\n",
    "df['Date_time'] = df['Date_time'].astype('datetime64[ns]')\n",
    "print(\"Original Dataframe:\")\n",
    "print(df.head())\n",
    "print(\"\\nYear:\")\n",
    "print(df.Date_time.dt.year.head())\n",
    "print(\"\\nMonth:\")\n",
    "print(df.Date_time.dt.month.head())\n",
    "print(\"\\nDay:\")\n",
    "print(df.Date_time.dt.day.head())\n",
    "print(\"\\nHour:\")\n",
    "print(df.Date_time.dt.hour.head())\n",
    "print(\"\\nMinute:\")\n",
    "print(df.Date_time.dt.minute.head())\n",
    "print(\"\\nSecond:\")\n",
    "print(df.Date_time.dt.second.head())\n",
    "print(\"\\nWeekday:\")\n",
    "print(df.Date_time.dt.weekday_name.head())\n"
   ]
  },
  {
   "cell_type": "markdown",
   "metadata": {},
   "source": [
    "Q33. Write a pandas program to count year-country wise frequency of\n",
    "reporting dates of the unidentified flying object(UFO).\n"
   ]
  },
  {
   "cell_type": "code",
   "execution_count": 21,
   "metadata": {},
   "outputs": [
    {
     "name": "stdout",
     "output_type": "stream",
     "text": [
      "Original Dataframe:\n",
      "            Date_time Country        City State    Shape  \\\n",
      "0 2016-12-21 19:15:00     USA  Waynesboro    VA   Sphere   \n",
      "1 2016-12-21 00:00:00     USA  Louisville    KY  Unknown   \n",
      "2 2016-12-20 22:30:00     USA  Santa Rosa    CA   Sphere   \n",
      "3 2016-12-20 19:00:00     USA      Fresno    CA   Circle   \n",
      "4 2016-12-19 21:53:00     USA     Reymert    AZ   Circle   \n",
      "\n",
      "                                             Summary        lat         lng  \n",
      "0               Bright round object hovering in sky.  38.065229  -78.905888  \n",
      "1  Multiple craft ascending from north of Shelbyv...  38.254238  -85.759407  \n",
      "2  Bright orange planet-like object sighted near ...  38.440467 -122.714431  \n",
      "3      Twelve orange globes in formation over Fresno  36.729529 -119.708861  \n",
      "4  While camping in the Cottonwood canyon Rd., al...  33.229779 -111.209290  \n",
      "\n",
      "Country-year wise frequency of reporting dates of UFO:\n",
      "Year  Country\n",
      "2016  CANADA      150\n",
      "      USA        5027\n",
      "dtype: int64\n"
     ]
    }
   ],
   "source": [
    "import pandas as pd\n",
    "df=pd.read_excel(r\"C:\\Users\\Admin\\Desktop\\Nishitha\\UFOs_coord.xlsx\")\n",
    "df['Date_time'] = df['Date_time'].astype('datetime64[ns]')\n",
    "print(\"Original Dataframe:\")\n",
    "print(df.head())\n",
    "df['Year'] = df['Date_time'].apply(lambda x: \"%d\" % (x.year))\n",
    "result = df.groupby(['Year', 'Country']).size()\n",
    "print(\"\\nCountry-year wise frequency of reporting dates of UFO:\")\n",
    "print(result)"
   ]
  },
  {
   "cell_type": "markdown",
   "metadata": {},
   "source": [
    "Q34. Write a pandas program to get the difference (in days) between\n",
    "documented date and reporting date of unidentified flying object\n",
    "(UFO)."
   ]
  },
  {
   "cell_type": "code",
   "execution_count": null,
   "metadata": {},
   "outputs": [],
   "source": []
  },
  {
   "cell_type": "markdown",
   "metadata": {},
   "source": [
    "Q35. Write a pandas program to generate sequences of fixedfrequency dates and time spans."
   ]
  },
  {
   "cell_type": "code",
   "execution_count": 22,
   "metadata": {},
   "outputs": [
    {
     "name": "stdout",
     "output_type": "stream",
     "text": [
      "Hourly frequency:\n",
      "DatetimeIndex(['2018-01-01 00:00:00', '2018-01-01 01:00:00',\n",
      "               '2018-01-01 02:00:00', '2018-01-01 03:00:00',\n",
      "               '2018-01-01 04:00:00', '2018-01-01 05:00:00',\n",
      "               '2018-01-01 06:00:00', '2018-01-01 07:00:00',\n",
      "               '2018-01-01 08:00:00', '2018-01-01 09:00:00',\n",
      "               '2018-01-01 10:00:00', '2018-01-01 11:00:00'],\n",
      "              dtype='datetime64[ns]', freq='H')\n",
      "\n",
      "Minutely frequency:\n",
      "DatetimeIndex(['2018-01-01 00:00:00', '2018-01-01 00:01:00',\n",
      "               '2018-01-01 00:02:00', '2018-01-01 00:03:00',\n",
      "               '2018-01-01 00:04:00', '2018-01-01 00:05:00',\n",
      "               '2018-01-01 00:06:00', '2018-01-01 00:07:00',\n",
      "               '2018-01-01 00:08:00', '2018-01-01 00:09:00',\n",
      "               '2018-01-01 00:10:00', '2018-01-01 00:11:00'],\n",
      "              dtype='datetime64[ns]', freq='T')\n",
      "\n",
      "Secondly frequency:\n",
      "DatetimeIndex(['2018-01-01 00:00:00', '2018-01-01 00:00:01',\n",
      "               '2018-01-01 00:00:02', '2018-01-01 00:00:03',\n",
      "               '2018-01-01 00:00:04', '2018-01-01 00:00:05',\n",
      "               '2018-01-01 00:00:06', '2018-01-01 00:00:07',\n",
      "               '2018-01-01 00:00:08', '2018-01-01 00:00:09',\n",
      "               '2018-01-01 00:00:10', '2018-01-01 00:00:11'],\n",
      "              dtype='datetime64[ns]', freq='S')\n",
      "nMultiple Hourly frequency:\n",
      "DatetimeIndex(['2018-01-01 00:00:00', '2018-01-01 02:00:00',\n",
      "               '2018-01-01 04:00:00', '2018-01-01 06:00:00',\n",
      "               '2018-01-01 08:00:00', '2018-01-01 10:00:00',\n",
      "               '2018-01-01 12:00:00', '2018-01-01 14:00:00',\n",
      "               '2018-01-01 16:00:00', '2018-01-01 18:00:00',\n",
      "               '2018-01-01 20:00:00', '2018-01-01 22:00:00'],\n",
      "              dtype='datetime64[ns]', freq='2H')\n",
      "\n",
      "Multiple Minutely frequency:\n",
      "DatetimeIndex(['2018-01-01 00:00:00', '2018-01-01 00:05:00',\n",
      "               '2018-01-01 00:10:00', '2018-01-01 00:15:00',\n",
      "               '2018-01-01 00:20:00', '2018-01-01 00:25:00',\n",
      "               '2018-01-01 00:30:00', '2018-01-01 00:35:00',\n",
      "               '2018-01-01 00:40:00', '2018-01-01 00:45:00',\n",
      "               '2018-01-01 00:50:00', '2018-01-01 00:55:00'],\n",
      "              dtype='datetime64[ns]', freq='5T')\n",
      "\n",
      "Multiple Secondly frequency:\n",
      "DatetimeIndex(['2018-03-30', '2018-06-29', '2018-09-28', '2018-12-31',\n",
      "               '2019-03-29', '2019-06-28', '2019-09-30', '2019-12-31',\n",
      "               '2020-03-31', '2020-06-30', '2020-09-30', '2020-12-31'],\n",
      "              dtype='datetime64[ns]', freq='BQ-DEC')\n",
      "\n",
      "Weekly frequency:\n",
      "DatetimeIndex(['2018-01-07', '2018-01-14', '2018-01-21', '2018-01-28',\n",
      "               '2018-02-04', '2018-02-11', '2018-02-18', '2018-02-25',\n",
      "               '2018-03-04', '2018-03-11', '2018-03-18', '2018-03-25'],\n",
      "              dtype='datetime64[ns]', freq='W-SUN')\n",
      "\n",
      "Combine together day and intraday offsets-1:\n",
      "DatetimeIndex(['2018-01-01 00:00:00', '2018-01-01 02:20:00',\n",
      "               '2018-01-01 04:40:00', '2018-01-01 07:00:00',\n",
      "               '2018-01-01 09:20:00', '2018-01-01 11:40:00',\n",
      "               '2018-01-01 14:00:00', '2018-01-01 16:20:00',\n",
      "               '2018-01-01 18:40:00', '2018-01-01 21:00:00',\n",
      "               '2018-01-01 23:20:00', '2018-01-02 01:40:00'],\n",
      "              dtype='datetime64[ns]', freq='140T')\n",
      "\n",
      "Combine together day and intraday offsets-2:\n",
      "DatetimeIndex([       '2018-01-01 00:00:00', '2018-01-02 00:00:00.000010',\n",
      "               '2018-01-03 00:00:00.000020', '2018-01-04 00:00:00.000030',\n",
      "               '2018-01-05 00:00:00.000040', '2018-01-06 00:00:00.000050',\n",
      "               '2018-01-07 00:00:00.000060', '2018-01-08 00:00:00.000070',\n",
      "               '2018-01-09 00:00:00.000080', '2018-01-10 00:00:00.000090',\n",
      "               '2018-01-11 00:00:00.000100', '2018-01-12 00:00:00.000110'],\n",
      "              dtype='datetime64[ns]', freq='86400000010U')\n"
     ]
    }
   ],
   "source": [
    "import pandas as pd\n",
    "dtr = pd.date_range('2018-01-01', periods=12, freq='H')\n",
    "print(\"Hourly frequency:\")\n",
    "print(dtr)\n",
    "dtr = pd.date_range('2018-01-01', periods=12, freq='min')\n",
    "print(\"\\nMinutely frequency:\")\n",
    "print(dtr)\n",
    "dtr = pd.date_range('2018-01-01', periods=12, freq='S')\n",
    "print(\"\\nSecondly frequency:\")\n",
    "print(dtr)\n",
    "dtr = pd.date_range('2018-01-01', periods=12, freq='2H')\n",
    "print(\"nMultiple Hourly frequency:\")\n",
    "print(dtr)\n",
    "dtr = pd.date_range('2018-01-01', periods=12, freq='5min')\n",
    "print(\"\\nMultiple Minutely frequency:\")\n",
    "print(dtr)\n",
    "dtr = pd.date_range('2018-01-01', periods=12, freq='BQ')\n",
    "print(\"\\nMultiple Secondly frequency:\")\n",
    "print(dtr)\n",
    "dtr = pd.date_range('2018-01-01', periods=12, freq='w')\n",
    "print(\"\\nWeekly frequency:\")\n",
    "print(dtr)\n",
    "dtr = pd.date_range('2018-01-01', periods=12, freq='2h20min')\n",
    "print(\"\\nCombine together day and intraday offsets-1:\")\n",
    "print(dtr)\n",
    "dtr = pd.date_range('2018-01-01', periods=12, freq='1D10U')\n",
    "print(\"\\nCombine together day and intraday offsets-2:\")\n",
    "print(dtr)"
   ]
  },
  {
   "cell_type": "markdown",
   "metadata": {},
   "source": [
    "Q36. Write a pandas program to manipulate and convert date times\n",
    "with timezone information."
   ]
  },
  {
   "cell_type": "code",
   "execution_count": 23,
   "metadata": {},
   "outputs": [
    {
     "name": "stdout",
     "output_type": "stream",
     "text": [
      "DatetimeIndex(['2018-01-01 00:00:00+00:00', '2018-01-01 01:00:00+00:00',\n",
      "               '2018-01-01 02:00:00+00:00'],\n",
      "              dtype='datetime64[ns, UTC]', freq='H')\n",
      "\n",
      "From UTC to America/Los_Angeles:\n",
      "DatetimeIndex(['2017-12-31 16:00:00-08:00', '2017-12-31 17:00:00-08:00',\n",
      "               '2017-12-31 18:00:00-08:00'],\n",
      "              dtype='datetime64[ns, America/Los_Angeles]', freq='H')\n"
     ]
    }
   ],
   "source": [
    "import pandas as pd\n",
    "dtt = pd.date_range('2018-01-01', periods=3, freq='H')\n",
    "dtt = dtt.tz_localize('UTC')\n",
    "print(dtt)\n",
    "print(\"\\nFrom UTC to America/Los_Angeles:\")\n",
    "dtt = dtt.tz_convert('America/Los_Angeles')\n",
    "print(dtt)"
   ]
  },
  {
   "cell_type": "markdown",
   "metadata": {},
   "source": [
    "Q37. Write a pandas program to create the graphical analysis of UFO\n",
    "(unidentified flying object) Sightings year."
   ]
  },
  {
   "cell_type": "code",
   "execution_count": 25,
   "metadata": {},
   "outputs": [
    {
     "data": {
      "image/png": "[encoded data removed]",
      "text/plain": [
       "<Figure size 1080x576 with 1 Axes>"
      ]
     },
     "metadata": {
      "needs_background": "light"
     },
     "output_type": "display_data"
    }
   ],
   "source": [
    "import pandas as pd\n",
    "import matplotlib.pyplot as plt\n",
    "import seaborn as sns\n",
    "df=pd.read_excel(r\"C:\\Users\\Admin\\Desktop\\Nishitha\\UFOs_coord.xlsx\")\n",
    "df['Date_time'] = df['Date_time'].astype('datetime64[ns]')\n",
    "df[\"ufo_yr\"] = df.Date_time.dt.year\n",
    "years_data = df.ufo_yr.value_counts()\n",
    "years_index = years_data.index  # x ticks\n",
    "years_values = years_data.get_values()\n",
    "plt.figure(figsize=(15,8))\n",
    "plt.xticks(rotation = 60)\n",
    "plt.title('UFO Sightings by Year')\n",
    "plt.xlabel(\"Year\")\n",
    "plt.ylabel(\"Number of reports\")\n",
    "years_plot = sns.barplot(x=years_index[:60],y=years_values[:60], palette = \"Reds\")"
   ]
  },
  {
   "cell_type": "markdown",
   "metadata": {},
   "source": [
    "Q38. Write a pandas program to create a comparison of the top 10\n",
    "years in which the (UFO) was sighted VS each Month."
   ]
  },
  {
   "cell_type": "code",
   "execution_count": 27,
   "metadata": {},
   "outputs": [
    {
     "name": "stdout",
     "output_type": "stream",
     "text": [
      "\n",
      "Comparison of the top 10 years in which the UFO was sighted vs the hours of the day:\n",
      "           0:00  1:00  2:00  3:00  4:00  5:00  6:00  7:00  8:00  9:00  ...  \\\n",
      "Date_time                                                              ...   \n",
      "2016        291   180   115   115   104   128   101    72    48    59  ...   \n",
      "\n",
      "           14:00  15:00  16:00  17:00  18:00  19:00  20:00  21:00  22:00  \\\n",
      "Date_time                                                                  \n",
      "2016          81     75     93    144    281    422    597    845    677   \n",
      "\n",
      "           23:00  \n",
      "Date_time         \n",
      "2016         462  \n",
      "\n",
      "[1 rows x 24 columns]\n"
     ]
    }
   ],
   "source": [
    "import pandas as pd\n",
    "df=pd.read_excel(r\"C:\\Users\\Admin\\Desktop\\Nishitha\\UFOs_coord.xlsx\")\n",
    "df['Date_time'] = df['Date_time'].astype('datetime64[ns]')\n",
    "most_sightings_years = df['Date_time'].dt.year.value_counts().head(10)\n",
    "def is_top_years(year):\n",
    "    if year in most_sightings_years.index:\n",
    "        return year\n",
    "\n",
    "hour_v_year = df.pivot_table(columns=df['Date_time'].dt.hour,index=df['Date_time'].dt.year.apply(is_top_years),aggfunc='count',values='City')\n",
    "hour_v_year.columns = hour_v_year.columns.astype(int)\n",
    "hour_v_year.columns = hour_v_year.columns.astype(str) + \":00\"\n",
    "hour_v_year.index = hour_v_year.index.astype(int)\n",
    "print(\"\\nComparison of the top 10 years in which the UFO was sighted vs the hours of the day:\")\n",
    "print(hour_v_year.head(10))\n"
   ]
  },
  {
   "cell_type": "markdown",
   "metadata": {},
   "source": [
    "Q39. Write a pandas program to create a heatmap (rectangular data as\n",
    "a colour-encoded matrix) for comparison of top 10 years in\n",
    "which (UFO ) was sighted VS each Month."
   ]
  },
  {
   "cell_type": "code",
   "execution_count": 30,
   "metadata": {},
   "outputs": [
    {
     "name": "stdout",
     "output_type": "stream",
     "text": [
      "\n",
      "Heatmap for comparison of the top 10 years in which the UFO was sighted vs each month:\n"
     ]
    },
    {
     "data": {
      "image/png": "[encoded data removed]",
      "text/plain": [
       "<Figure size 720x576 with 2 Axes>"
      ]
     },
     "metadata": {
      "needs_background": "light"
     },
     "output_type": "display_data"
    }
   ],
   "source": [
    "import pandas as pd\n",
    "import matplotlib.pyplot as plt\n",
    "import seaborn as sns\n",
    "df=pd.read_excel(r\"C:\\Users\\Admin\\Desktop\\Nishitha\\UFOs_coord.xlsx\")\n",
    "df['Date_time'] = df['Date_time'].astype('datetime64[ns]')\n",
    "most_sightings_years = df['Date_time'].dt.year.value_counts().head(10)\n",
    "def is_top_years(year):\n",
    "    if year in most_sightings_years.index:\n",
    "        return year\n",
    "month_vs_year = df.pivot_table(columns=df['Date_time'].dt.month,index=df['Date_time'].dt.year.apply(is_top_years),aggfunc='count',values='City')\n",
    "month_vs_year.columns = month_vs_year.columns.astype(int)\n",
    "print(\"\\nHeatmap for comparison of the top 10 years in which the UFO was sighted vs each month:\")\n",
    "plt.figure(figsize=(10,8))\n",
    "ax = sns.heatmap(month_vs_year, vmin=0, vmax=4)\n",
    "ax.set_xlabel('Month').set_size(20)\n",
    "ax.set_ylabel('Year').set_size(20)\n"
   ]
  },
  {
   "cell_type": "markdown",
   "metadata": {},
   "source": [
    "Q40. Write a pandas program to create a Timewheel of Hour VS Year\n",
    "comparison of the top 10 years in which the (UFO) was sighted"
   ]
  },
  {
   "cell_type": "code",
   "execution_count": 32,
   "metadata": {},
   "outputs": [
    {
     "name": "stdout",
     "output_type": "stream",
     "text": [
      "\n",
      "Comparison of the top 10 years in which the UFO was sighted vs each month:\n"
     ]
    },
    {
     "data": {
      "image/png": "[encoded data removed]",
      "text/plain": [
       "<Figure size 576x576 with 1 Axes>"
      ]
     },
     "metadata": {},
     "output_type": "display_data"
    }
   ],
   "source": [
    "import pandas as pd\n",
    "import matplotlib.pyplot as plt\n",
    "import matplotlib as mpl\n",
    "import matplotlib.cm as cm\n",
    "\n",
    "df=pd.read_excel(r\"C:\\Users\\Admin\\Desktop\\Nishitha\\UFOs_coord.xlsx\")\n",
    "df['Date_time'] = df['Date_time'].astype('datetime64[ns]')\n",
    "most_sightings_years = df['Date_time'].dt.year.value_counts().head(10)\n",
    "def is_top_years(year):\n",
    "    if year in  most_sightings_years.index:\n",
    "        return year\n",
    "       \n",
    "month_vs_year = df.pivot_table(columns=df['Date_time'].dt.month,index=df['Date_time'].dt.year.apply(is_top_years),aggfunc='count',values='City')\n",
    "month_vs_year.index = month_vs_year.index.astype(int)\n",
    "month_vs_year.columns = month_vs_year.columns.astype(int)\n",
    "print(\"\\nComparison of the top 10 years in which the UFO was sighted vs each month:\")\n",
    "def pie_heatmap(table, cmap='coolwarm_r', vmin=None, vmax=None,inner_r=0.25, pie_args={}):\n",
    "    n,m=table.shape\n",
    "    vmin= table.min().min() if vmin is None else vmin\n",
    "    vmax= table.max().max() if vmax is None else vmax\n",
    "    centre_circle=plt.Circle((0,0),inner_r,edgecolor='black',facecolor='white',fill=True,linewidth=0.25)\n",
    "    plt.gcf().gca().add_artist(centre_circle)\n",
    "    norm= mpl.colors.Normalize(vmin=vmin, vmax=vmax)\n",
    "    cmapper = cm.ScalarMappable(norm=norm, cmap=cmap)\n",
    "\n",
    "    for i, (row_name, row) in enumerate(table.iterrows()):\n",
    "        labels = None if i > 0 else table.columns\n",
    "        wedges= plt.pie([1] * m,radius=inner_r+float(n-i)/n, colors=[cmapper.to_rgba(x) for x in row.values],\n",
    "           labels=labels, startangle=90, counterclock=False, wedgeprops={'linewidth':-1}, **pie_args)\n",
    "        plt.setp(wedges[0], edgecolor='grey',linewidth=1.5)\n",
    "        wedges = plt.pie([1], radius=inner_r+float(n-i-1)/n, colors=['w'], labels=[row_name], startangle=-90, wedgeprops={'linewidth':0})\n",
    "        plt.setp(wedges[0], edgecolor='grey',linewidth=1.5)\n",
    "plt.figure(figsize=(8,8))\n",
    "plt.title(\"Timewheel of Hour Vs Year\",y=1.08,fontsize=30)\n",
    "pie_heatmap(month_vs_year, vmin=-20,vmax=80,inner_r=0.2)\n"
   ]
  },
  {
   "cell_type": "markdown",
   "metadata": {},
   "source": [
    "## Great Job!"
   ]
  }
 ],
 "metadata": {
  "kernelspec": {
   "display_name": "Python 3",
   "language": "python",
   "name": "python3"
  },
  "language_info": {
   "codemirror_mode": {
    "name": "ipython",
    "version": 3
   },
   "file_extension": ".py",
   "mimetype": "text/x-python",
   "name": "python",
   "nbconvert_exporter": "python",
   "pygments_lexer": "ipython3",
   "version": "3.7.3"
  }
 },
 "nbformat": 4,
 "nbformat_minor": 2
}
